{
 "cells": [
  {
   "cell_type": "markdown",
   "metadata": {},
   "source": [
    "# Substring Index Finder v.1.3.2"
   ]
  },
  {
   "cell_type": "code",
   "execution_count": 18,
   "metadata": {},
   "outputs": [
    {
     "data": {
      "text/plain": [
       "\"I've started using Shrek as a unit of time, where 1 shrek = 1hr 35min (the length of the movie) Examples: See you in a shrek! (1hr 35min) Dinner will be ready in half a shrek. (47.5min) My birthday is only 469.9 shreks away! (1 month)\""
      ]
     },
     "execution_count": 18,
     "metadata": {},
     "output_type": "execute_result"
    }
   ],
   "source": [
    "sample = open(\"article.txt\", \"r\").read()\n",
    "sample"
   ]
  },
  {
   "cell_type": "code",
   "execution_count": 15,
   "metadata": {},
   "outputs": [],
   "source": [
    "def find_string_index(string, word):\n",
    "    result = 0\n",
    "    beg = 0\n",
    "    string = string.lower()\n",
    "    word = word.lower()\n",
    "    nword = \" \" + word\n",
    "    length = len(word)\n",
    "    final_result = []\n",
    "    \n",
    "    while (result != -1):\n",
    "        if (result == 0):\n",
    "            result = string.find(word, beg)\n",
    "            s_index = result\n",
    "        else:\n",
    "            result = string.find(nword, beg)\n",
    "            s_index = result + 1\n",
    "        entry = (s_index ,s_index + (length))\n",
    "        if (result != -1):\n",
    "            final_result.append(entry)\n",
    "        beg = s_index + length\n",
    "    return final_result"
   ]
  },
  {
   "cell_type": "markdown",
   "metadata": {},
   "source": [
    "## Just call the function with your (text, word) \n",
    "### It returns a tuple of the start and end indices of the word you're looking for! \n",
    "### It's also case-insensitive! "
   ]
  },
  {
   "cell_type": "code",
   "execution_count": 16,
   "metadata": {},
   "outputs": [
    {
     "data": {
      "text/plain": [
       "[]"
      ]
     },
     "execution_count": 16,
     "metadata": {},
     "output_type": "execute_result"
    }
   ],
   "source": [
    "find_string_index(sample, \"sHrEk\")"
   ]
  },
  {
   "cell_type": "code",
   "execution_count": null,
   "metadata": {},
   "outputs": [],
   "source": []
  }
 ],
 "metadata": {
  "kernelspec": {
   "display_name": "Python 3",
   "language": "python",
   "name": "python3"
  },
  "language_info": {
   "codemirror_mode": {
    "name": "ipython",
    "version": 3
   },
   "file_extension": ".py",
   "mimetype": "text/x-python",
   "name": "python",
   "nbconvert_exporter": "python",
   "pygments_lexer": "ipython3",
   "version": "3.6.4"
  }
 },
 "nbformat": 4,
 "nbformat_minor": 2
}
