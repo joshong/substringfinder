{
 "cells": [
  {
   "cell_type": "markdown",
   "metadata": {},
   "source": [
    "# Substring Index Finder v.1.2"
   ]
  },
  {
   "cell_type": "code",
   "execution_count": 1,
   "metadata": {},
   "outputs": [],
   "source": [
    "sample = \"To be fair, you have to have a very high IQ to understand Rick and Morty. The humour is extremely subtle, and without a solid grasp of theoretical physics most of the jokes will go over a typical viewer’s head. There’s also Rick’s nihilistic outlook, which is deftly woven into his characterisation- his personal philosophy draws heavily from Narodnaya Volya literature, for instance. The fans understand this stuff; they have the intellectual capacity to truly appreciate the depths of these jokes, to realise that they’re not just funny- they say something deep about LIFE. As a consequence people who dislike Rick & Morty truly ARE idiots- of course they wouldn’t appreciate, for instance, the humour in Rick’s existential catchphrase “Wubba Lubba Dub Dub,” which itself is a cryptic reference to Turgenev’s Russian epic Fathers and Sons. I’m smirking right now just imagining one of those addlepated simpletons scratching their heads in confusion as Dan Harmon’s genius wit unfolds itself on their television screens. What fools.. how I pity them. And yes, by the way, i DO have a Rick & Morty tattoo. And no, you cannot see it. It’s for the ladies’ eyes only- and even then they have to demonstrate that they’re within 5 IQ points of my own (preferably lower) beforehand. Nothin personnel kid\""
   ]
  },
  {
   "cell_type": "code",
   "execution_count": 19,
   "metadata": {},
   "outputs": [],
   "source": [
    "def find_string_index(string, word):\n",
    "    result = 0\n",
    "    beg = 0\n",
    "    string = string.lower()\n",
    "    word = word.lower()\n",
    "    nword = \" \" + word\n",
    "    length = len(word)\n",
    "    final_result = []\n",
    "    \n",
    "    result = string.find(word, beg)\n",
    "    s_index = result\n",
    "    entry = (s_index ,s_index + length)\n",
    "    if (result != -1):\n",
    "        final_result.append(entry)\n",
    "    beg = s_index + length\n",
    "    \n",
    "    while (result != -1):\n",
    "        result = string.find(nword, beg)\n",
    "        s_index = result + 1\n",
    "        entry = (s_index ,s_index + length)\n",
    "        if (result != -1):\n",
    "            final_result.append(entry)\n",
    "        beg = s_index + length\n",
    "    return final_result"
   ]
  },
  {
   "cell_type": "markdown",
   "metadata": {},
   "source": [
    "## Just call the function with your (text, word) \n",
    "### It returns a tuple of the start and end indices of the word you're looking for! \n",
    "### It's also case-insensitive! "
   ]
  },
  {
   "cell_type": "code",
   "execution_count": 20,
   "metadata": {},
   "outputs": [
    {
     "data": {
      "text/plain": [
       "[(0, 2), (21, 23), (44, 46), (453, 455), (500, 502), (797, 799), (1189, 1191)]"
      ]
     },
     "execution_count": 20,
     "metadata": {},
     "output_type": "execute_result"
    }
   ],
   "source": [
    "find_string_index(sample, \"To\")"
   ]
  },
  {
   "cell_type": "code",
   "execution_count": 13,
   "metadata": {},
   "outputs": [],
   "source": [
    "testsample = sample.lower()"
   ]
  },
  {
   "cell_type": "code",
   "execution_count": 14,
   "metadata": {},
   "outputs": [
    {
     "data": {
      "text/plain": [
       "'to be fair, you have to have a very high iq to understand rick and morty. the humour is extremely subtle, and without a solid grasp of theoretical physics most of the jokes will go over a typical viewer’s head. there’s also rick’s nihilistic outlook, which is deftly woven into his characterisation- his personal philosophy draws heavily from narodnaya volya literature, for instance. the fans understand this stuff; they have the intellectual capacity to truly appreciate the depths of these jokes, to realise that they’re not just funny- they say something deep about life. as a consequence people who dislike rick & morty truly are idiots- of course they wouldn’t appreciate, for instance, the humour in rick’s existential catchphrase “wubba lubba dub dub,” which itself is a cryptic reference to turgenev’s russian epic fathers and sons. i’m smirking right now just imagining one of those addlepated simpletons scratching their heads in confusion as dan harmon’s genius wit unfolds itself on their television screens. what fools.. how i pity them. and yes, by the way, i do have a rick & morty tattoo. and no, you cannot see it. it’s for the ladies’ eyes only- and even then they have to demonstrate that they’re within 5 iq points of my own (preferably lower) beforehand. nothin personnel kid'"
      ]
     },
     "execution_count": 14,
     "metadata": {},
     "output_type": "execute_result"
    }
   ],
   "source": [
    "testsample"
   ]
  },
  {
   "cell_type": "code",
   "execution_count": 16,
   "metadata": {},
   "outputs": [
    {
     "data": {
      "text/plain": [
       "0"
      ]
     },
     "execution_count": 16,
     "metadata": {},
     "output_type": "execute_result"
    }
   ],
   "source": [
    "testsample.find(\"to\", 0)"
   ]
  },
  {
   "cell_type": "code",
   "execution_count": null,
   "metadata": {},
   "outputs": [],
   "source": []
  }
 ],
 "metadata": {
  "kernelspec": {
   "display_name": "Python 3",
   "language": "python",
   "name": "python3"
  },
  "language_info": {
   "codemirror_mode": {
    "name": "ipython",
    "version": 3
   },
   "file_extension": ".py",
   "mimetype": "text/x-python",
   "name": "python",
   "nbconvert_exporter": "python",
   "pygments_lexer": "ipython3",
   "version": "3.6.4"
  }
 },
 "nbformat": 4,
 "nbformat_minor": 2
}
