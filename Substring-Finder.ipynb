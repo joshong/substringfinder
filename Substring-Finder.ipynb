{
 "cells": [
  {
   "cell_type": "markdown",
   "metadata": {},
   "source": [
    "# Substring Index Finder v.1.3.2.5 Rev. 2 now with Dante from the Devil May Cry series and Knuckles & Josh"
   ]
  },
  {
   "cell_type": "code",
   "execution_count": 1,
   "metadata": {},
   "outputs": [],
   "source": [
    "sample = open(\"article.txt\", \"r\").read()\n",
    "sample\n",
    "targetwords = open(\"wordlist.txt\", \"r\").readlines()"
   ]
  },
  {
   "cell_type": "code",
   "execution_count": 2,
   "metadata": {},
   "outputs": [],
   "source": [
    "def find_string_index(string, word):\n",
    "    result = 0\n",
    "    beg = 0\n",
    "    string = string.lower()\n",
    "    word = word.lower()\n",
    "    nword = \" \" + word\n",
    "    length = len(word)\n",
    "    final_result = []\n",
    "    \n",
    "    while (result != -1):\n",
    "        if (result == 0):\n",
    "            result = string.find(word, beg)\n",
    "            s_index = result\n",
    "        else:\n",
    "            result = string.find(nword, beg)\n",
    "            s_index = result + 1\n",
    "        entry = (s_index ,s_index + (length))\n",
    "        if (result != -1):\n",
    "            final_result.append(entry)\n",
    "        beg = s_index + length\n",
    "    return final_result"
   ]
  },
  {
   "cell_type": "markdown",
   "metadata": {},
   "source": [
    "## Just put your article in article.txt and your words in wordlist.txt!\n",
    "### It returns a tuple of the start and end indices of the word you're looking for! \n",
    "### It's also case-insensitive! "
   ]
  },
  {
   "cell_type": "code",
   "execution_count": 3,
   "metadata": {},
   "outputs": [
    {
     "name": "stdout",
     "output_type": "stream",
     "text": [
      "shrek,(19, 24), (52, 57), (119, 124), (169, 174), (212, 217), \n",
      "a,(7, 8), (25, 26), (28, 29), (117, 118), (167, 168), (219, 220), \n",
      "the,(71, 74), (85, 88), \n"
     ]
    }
   ],
   "source": [
    "for word in targetwords:\n",
    "    print(word.rstrip(), end='')\n",
    "    fa = find_string_index(sample, word.rstrip())\n",
    "    print(\",\", end='')\n",
    "    for entry in fa:\n",
    "        print(entry, end='')\n",
    "        print(\", \", end='')\n",
    "    print()"
   ]
  },
  {
   "cell_type": "code",
   "execution_count": null,
   "metadata": {},
   "outputs": [],
   "source": []
  }
 ],
 "metadata": {
  "kernelspec": {
   "display_name": "Python 3",
   "language": "python",
   "name": "python3"
  },
  "language_info": {
   "codemirror_mode": {
    "name": "ipython",
    "version": 3
   },
   "file_extension": ".py",
   "mimetype": "text/x-python",
   "name": "python",
   "nbconvert_exporter": "python",
   "pygments_lexer": "ipython3",
   "version": "3.6.4"
  }
 },
 "nbformat": 4,
 "nbformat_minor": 2
}
